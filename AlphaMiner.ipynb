{
 "cells": [
  {
   "cell_type": "code",
   "execution_count": 60,
   "id": "optical-quality",
   "metadata": {},
   "outputs": [],
   "source": [
    "from itertools import chain, combinations\n",
    "from copy import deepcopy"
   ]
  },
  {
   "cell_type": "code",
   "execution_count": 157,
   "id": "understood-amino",
   "metadata": {},
   "outputs": [],
   "source": [
    "class Log:\n",
    "    def __init__(self, logfile):\n",
    "        self.logfile = logfile\n",
    "        self.traces = self._parse_logfile()\n",
    "        \n",
    "        self.t_all = set()\n",
    "        self.t_i = set()\n",
    "        self.t_o = set()\n",
    "        \n",
    "        # footprint relations\n",
    "        self.df = set() # directly follows\n",
    "        self.cd = set() # causally dependent\n",
    "        self.ncd = set() # not causally dependent\n",
    "        self.pl = set() # parallel\n",
    "        \n",
    "        self.x_l = set()\n",
    "        self.y_l = set()\n",
    "    \n",
    "    def _parse_logfile(self):\n",
    "        # TODO\n",
    "        l = [[\"a\",\"b\",\"c\",\"d\"],[\"a\",\"c\",\"b\",\"d\"],[\"a\",\"e\",\"d\"]]\n",
    "        return l"
   ]
  },
  {
   "cell_type": "markdown",
   "id": "through-browser",
   "metadata": {},
   "source": [
    "#### 1-3) Activity set extraction and footprint matrix generation"
   ]
  },
  {
   "cell_type": "code",
   "execution_count": 181,
   "id": "third-toolbox",
   "metadata": {},
   "outputs": [],
   "source": [
    "class Miner:\n",
    "    def __init__(self, algorithm=\"standard\"):\n",
    "        self.algorithm = algorithm\n",
    "        self.log = None\n",
    "        \n",
    "    def run_miner(self,log):\n",
    "        self.log = log\n",
    "        \n",
    "        # run algorithm\n",
    "        self.extract_activity_sets()\n",
    "        self.generate_footprint()\n",
    "        self.create_x_l()\n",
    "        self.create_y_l()\n",
    "    \n",
    "    def extract_activity_sets(self):\n",
    "        for trace in self.log.traces:\n",
    "            for i, item in enumerate(trace):\n",
    "                self.log.t_all.add(item)\n",
    "                if i == 0:\n",
    "                    self.log.t_i.add(item)\n",
    "                elif i == len(trace)-1:\n",
    "                    self.log.t_o.add(item)\n",
    "    \n",
    "    def generate_footprint(self):\n",
    "        # directly follows\n",
    "        self.log.df = self._directly_follows(self.log.traces)\n",
    "        \n",
    "        for a1 in self.log.t_all:\n",
    "            for a2 in self.log.t_all:\n",
    "                if (a1,a2) not in self.log.cd and (a1,a2) not in self.log.ncd and (a1,a2) not in self.log.pl:\n",
    "                    if (a1,a2) in self.log.df:\n",
    "                        if (a2,a1) in self.log.df:\n",
    "                            # parallel: a1 -> a2 & a2 -> a1\n",
    "                            self.log.pl.add((a1,a2))\n",
    "                        else:\n",
    "                            # dependent: a1 -> a2 & !(a2 -> a1)\n",
    "                            self.log.cd.add((a1,a2))\n",
    "                    else:\n",
    "                        if (a2,a1) not in self.log.df:\n",
    "                            # independent: !(a1 -> a2) & !(a2 -> a1)\n",
    "                            self.log.ncd.add((a1,a2))\n",
    "                            \n",
    "        \n",
    "    def _directly_follows(self,traces):\n",
    "        df = set()\n",
    "        for t in traces:\n",
    "            for i, a in enumerate(t):\n",
    "                if i != len(t)-1:\n",
    "                    df.add((a,t[i+1]))\n",
    "        return df\n",
    "\n",
    "    \n",
    "    def create_x_l(self):\n",
    "        # TODO: make it more efficient (don't do exhaustive search)\n",
    "        x_l = set()\n",
    "        subsets = subset_generation(self.log.t_all)\n",
    "        for ss1 in subsets:\n",
    "            for ss2 in subsets:\n",
    "                if self._check_set_independence(ss1,self.log.ncd):\n",
    "                    a = ss1\n",
    "                    if self._check_set_independence(ss2,self.log.ncd):\n",
    "                        b = ss2\n",
    "                        if self._check_set_relation(a,b,self.log.cd):\n",
    "                            x_l.add((a,b))\n",
    "        self.log.x_l = x_l\n",
    "    \n",
    "    def _check_set_independence(self,s,ncd):\n",
    "        for a1 in s:\n",
    "            for a2 in s:\n",
    "                if (a1,a2) not in ncd:\n",
    "                    return False\n",
    "        return True\n",
    "    \n",
    "    def _check_set_relation(self,s1,s2,cd):\n",
    "        for a1 in s1:\n",
    "            for a2 in s2:\n",
    "                if (a1,a2) not in cd:\n",
    "                    return False\n",
    "        return True\n",
    "    \n",
    "    def create_y_l(self):\n",
    "        self.log.y_l = remove_non_maximum_sets(self.log.x_l)"
   ]
  },
  {
   "cell_type": "markdown",
   "id": "seventh-medium",
   "metadata": {},
   "source": [
    "#### 4) Place Construction -> X_L\n",
    "Construct places p(A,B) such that A is set of in input transitions and B is set of output transitions.  \n",
    "* elements of A should not follow eachother (not causally dependent)\n",
    "* elements of B should not follow eachother (not causally dependent)\n",
    "* any of the elements in A can be followed by any of the elements in B"
   ]
  },
  {
   "cell_type": "code",
   "execution_count": 173,
   "id": "ready-tongue",
   "metadata": {},
   "outputs": [],
   "source": [
    "# generate all possible subsets of activities\n",
    "# (depending on log size it can be expensive)\n",
    "\n",
    "def subset_generation(activity_set):\n",
    "    return list(chain.from_iterable(combinations(activity_set,r) for r in range(1,len(activity_set)+1)))"
   ]
  },
  {
   "cell_type": "markdown",
   "id": "strange-appendix",
   "metadata": {},
   "source": [
    "#### 5) Removal of Non-Maximum Pairs -> Y_L"
   ]
  },
  {
   "cell_type": "code",
   "execution_count": 174,
   "id": "attractive-smile",
   "metadata": {},
   "outputs": [],
   "source": [
    "def remove_non_maximum_sets(sets):\n",
    "    maximal_pairs = deepcopy(sets)\n",
    "    for s1 in sets:\n",
    "        for s2 in sets:\n",
    "            if set(s1[0]).issubset(set(s2[0])):\n",
    "                if set(s1[1]).issubset(set(s2[1])):\n",
    "                    if s1[0] != s2[0]:\n",
    "                        maximal_pairs.discard(s1)\n",
    "                    elif s1[1] != s2[1]:\n",
    "                        maximal_pairs.discard(s1)\n",
    "    return maximal_pairs"
   ]
  },
  {
   "cell_type": "markdown",
   "id": "widespread-sense",
   "metadata": {},
   "source": [
    "#### 6-7) Source & Sink & Transitions\n",
    "* add unique source place which all start transitions in T_l get as input\n",
    "* add unique sink place which all end transitions in T_o get as output\n",
    "* all pairs become places with A as input transitions and B as output transitions"
   ]
  },
  {
   "cell_type": "code",
   "execution_count": 175,
   "id": "twelve-condition",
   "metadata": {},
   "outputs": [],
   "source": [
    "class Place:\n",
    "    def __init__(self,in_set,out_set):\n",
    "        self.in_set = in_set\n",
    "        self.out_set = out_set\n",
    "        \n",
    "    def __repr__(self):\n",
    "        return f\"{self.in_set} -- {self.out_set}\""
   ]
  },
  {
   "cell_type": "code",
   "execution_count": 178,
   "id": "falling-bowling",
   "metadata": {},
   "outputs": [],
   "source": [
    "# Example\n",
    "lg = Log(\"dummy.txt\")\n",
    "miner = Miner()\n",
    "miner.run_miner(lg)   # in place"
   ]
  },
  {
   "cell_type": "code",
   "execution_count": 179,
   "id": "subjective-disclaimer",
   "metadata": {},
   "outputs": [],
   "source": [
    "# create P_l transitions\n",
    "\n",
    "p_l = []\n",
    "# add source\n",
    "p_l.append((Place(None,lg.t_i)))\n",
    "# add transitions\n",
    "p_l.extend([Place(p[0],p[1]) for p in lg.y_l])\n",
    "# add sink\n",
    "p_l.append((Place(lg.t_o, None)))"
   ]
  },
  {
   "cell_type": "code",
   "execution_count": 180,
   "id": "simplified-testimony",
   "metadata": {},
   "outputs": [
    {
     "name": "stdout",
     "output_type": "stream",
     "text": [
      "None -- {'a'}\n",
      "('a',) -- ('e', 'c')\n",
      "('e', 'b') -- ('d',)\n",
      "('e', 'c') -- ('d',)\n",
      "('a',) -- ('e', 'b')\n",
      "{'d'} -- None\n"
     ]
    }
   ],
   "source": [
    "for t in p_l:\n",
    "    print(t)"
   ]
  },
  {
   "cell_type": "markdown",
   "id": "prostate-election",
   "metadata": {},
   "source": [
    "# Questions / To Discuss\n",
    "* Output Format / Visualisation\n",
    "* class & function structure\n",
    "* TODO: parse input file"
   ]
  }
 ],
 "metadata": {
  "kernelspec": {
   "display_name": "Python 3",
   "language": "python",
   "name": "python3"
  },
  "language_info": {
   "codemirror_mode": {
    "name": "ipython",
    "version": 3
   },
   "file_extension": ".py",
   "mimetype": "text/x-python",
   "name": "python",
   "nbconvert_exporter": "python",
   "pygments_lexer": "ipython3",
   "version": "3.8.8"
  }
 },
 "nbformat": 4,
 "nbformat_minor": 5
}
